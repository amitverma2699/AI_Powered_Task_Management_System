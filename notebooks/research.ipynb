{
 "cells": [
  {
   "cell_type": "code",
   "execution_count": 6,
   "metadata": {},
   "outputs": [],
   "source": [
    "# Required Libraries\n",
    "import os\n",
    "import sys\n",
    "import numpy as np\n",
    "import pandas as pd\n",
    "import matplotlib.pyplot as plt\n",
    "import seaborn as sns\n",
    "import plotly.express as px\n",
    "\n",
    "from sklearn.model_selection import train_test_split\n",
    "from sklearn.preprocessing import StandardScaler\n",
    "from sklearn.preprocessing import LabelEncoder\n",
    "from sklearn.preprocessing import OneHotEncoder\n",
    "from sklearn.compose import ColumnTransformer\n",
    "from sklearn.impute import SimpleImputer\n",
    "from sklearn.pipeline import Pipeline"
   ]
  },
  {
   "cell_type": "code",
   "execution_count": 12,
   "metadata": {},
   "outputs": [
    {
     "data": {
      "text/html": [
       "<div>\n",
       "<style scoped>\n",
       "    .dataframe tbody tr th:only-of-type {\n",
       "        vertical-align: middle;\n",
       "    }\n",
       "\n",
       "    .dataframe tbody tr th {\n",
       "        vertical-align: top;\n",
       "    }\n",
       "\n",
       "    .dataframe thead th {\n",
       "        text-align: right;\n",
       "    }\n",
       "</style>\n",
       "<table border=\"1\" class=\"dataframe\">\n",
       "  <thead>\n",
       "    <tr style=\"text-align: right;\">\n",
       "      <th></th>\n",
       "      <th>Task ID</th>\n",
       "      <th>Task Description</th>\n",
       "      <th>Assigned To</th>\n",
       "      <th>Priority</th>\n",
       "      <th>Dependencies</th>\n",
       "      <th>Assigned Date</th>\n",
       "      <th>Expected Deadline</th>\n",
       "      <th>Estimated Time</th>\n",
       "      <th>Completed Date</th>\n",
       "      <th>Delay (days)</th>\n",
       "    </tr>\n",
       "  </thead>\n",
       "  <tbody>\n",
       "    <tr>\n",
       "      <th>0</th>\n",
       "      <td>T1</td>\n",
       "      <td>Fix critical security vulnerability in system</td>\n",
       "      <td>Charlie</td>\n",
       "      <td>High</td>\n",
       "      <td>No Dependency</td>\n",
       "      <td>23-01-2024</td>\n",
       "      <td>30-01-2024</td>\n",
       "      <td>7</td>\n",
       "      <td>30-01-2024</td>\n",
       "      <td>0</td>\n",
       "    </tr>\n",
       "    <tr>\n",
       "      <th>1</th>\n",
       "      <td>T2</td>\n",
       "      <td>Prepare financial report for Q1</td>\n",
       "      <td>Eve</td>\n",
       "      <td>Medium</td>\n",
       "      <td>T1</td>\n",
       "      <td>11-01-2024</td>\n",
       "      <td>15-01-2024</td>\n",
       "      <td>4</td>\n",
       "      <td>18-01-2024</td>\n",
       "      <td>3</td>\n",
       "    </tr>\n",
       "    <tr>\n",
       "      <th>2</th>\n",
       "      <td>T3</td>\n",
       "      <td>Schedule and conduct weekly team meeting</td>\n",
       "      <td>David</td>\n",
       "      <td>High</td>\n",
       "      <td>No Dependency</td>\n",
       "      <td>09-01-2024</td>\n",
       "      <td>11-01-2024</td>\n",
       "      <td>2</td>\n",
       "      <td>13-01-2024</td>\n",
       "      <td>2</td>\n",
       "    </tr>\n",
       "    <tr>\n",
       "      <th>3</th>\n",
       "      <td>T4</td>\n",
       "      <td>Submit project proposal before deadline</td>\n",
       "      <td>Bob</td>\n",
       "      <td>Medium</td>\n",
       "      <td>T1</td>\n",
       "      <td>14-01-2024</td>\n",
       "      <td>22-01-2024</td>\n",
       "      <td>8</td>\n",
       "      <td>22-01-2024</td>\n",
       "      <td>0</td>\n",
       "    </tr>\n",
       "    <tr>\n",
       "      <th>4</th>\n",
       "      <td>T5</td>\n",
       "      <td>Review design documents and provide feedback</td>\n",
       "      <td>Charlie</td>\n",
       "      <td>Low</td>\n",
       "      <td>No Dependency</td>\n",
       "      <td>12-01-2024</td>\n",
       "      <td>13-01-2024</td>\n",
       "      <td>1</td>\n",
       "      <td>18-01-2024</td>\n",
       "      <td>5</td>\n",
       "    </tr>\n",
       "  </tbody>\n",
       "</table>\n",
       "</div>"
      ],
      "text/plain": [
       "  Task ID                               Task Description Assigned To Priority  \\\n",
       "0      T1  Fix critical security vulnerability in system     Charlie     High   \n",
       "1      T2                Prepare financial report for Q1         Eve   Medium   \n",
       "2      T3       Schedule and conduct weekly team meeting       David     High   \n",
       "3      T4        Submit project proposal before deadline         Bob   Medium   \n",
       "4      T5   Review design documents and provide feedback     Charlie      Low   \n",
       "\n",
       "    Dependencies Assigned Date Expected Deadline  Estimated Time  \\\n",
       "0  No Dependency    23-01-2024        30-01-2024               7   \n",
       "1             T1    11-01-2024        15-01-2024               4   \n",
       "2  No Dependency    09-01-2024        11-01-2024               2   \n",
       "3             T1    14-01-2024        22-01-2024               8   \n",
       "4  No Dependency    12-01-2024        13-01-2024               1   \n",
       "\n",
       "  Completed Date  Delay (days)  \n",
       "0     30-01-2024             0  \n",
       "1     18-01-2024             3  \n",
       "2     13-01-2024             2  \n",
       "3     22-01-2024             0  \n",
       "4     18-01-2024             5  "
      ]
     },
     "execution_count": 12,
     "metadata": {},
     "output_type": "execute_result"
    }
   ],
   "source": [
    "df=pd.read_csv('..//notebooks/data/Task_data.csv')\n",
    "df.head()"
   ]
  },
  {
   "cell_type": "code",
   "execution_count": 13,
   "metadata": {},
   "outputs": [
    {
     "name": "stdout",
     "output_type": "stream",
     "text": [
      "<class 'pandas.core.frame.DataFrame'>\n",
      "RangeIndex: 100 entries, 0 to 99\n",
      "Data columns (total 10 columns):\n",
      " #   Column             Non-Null Count  Dtype \n",
      "---  ------             --------------  ----- \n",
      " 0   Task ID            100 non-null    object\n",
      " 1   Task Description   100 non-null    object\n",
      " 2   Assigned To        100 non-null    object\n",
      " 3   Priority           100 non-null    object\n",
      " 4   Dependencies       100 non-null    object\n",
      " 5   Assigned Date      100 non-null    object\n",
      " 6   Expected Deadline  100 non-null    object\n",
      " 7   Estimated Time     100 non-null    int64 \n",
      " 8   Completed Date     100 non-null    object\n",
      " 9   Delay (days)       100 non-null    int64 \n",
      "dtypes: int64(2), object(8)\n",
      "memory usage: 7.9+ KB\n"
     ]
    }
   ],
   "source": [
    "df.info()"
   ]
  },
  {
   "cell_type": "code",
   "execution_count": null,
   "metadata": {},
   "outputs": [],
   "source": []
  },
  {
   "cell_type": "code",
   "execution_count": null,
   "metadata": {},
   "outputs": [],
   "source": []
  },
  {
   "cell_type": "code",
   "execution_count": 3,
   "metadata": {},
   "outputs": [
    {
     "data": {
      "text/plain": [
       "Assigned To\n",
       "Eve        35\n",
       "Alice      21\n",
       "Charlie    18\n",
       "David      13\n",
       "Bob        13\n",
       "Name: count, dtype: int64"
      ]
     },
     "execution_count": 3,
     "metadata": {},
     "output_type": "execute_result"
    }
   ],
   "source": [
    "df['Assigned To'].value_counts()"
   ]
  },
  {
   "cell_type": "code",
   "execution_count": 4,
   "metadata": {},
   "outputs": [
    {
     "data": {
      "text/plain": [
       "Dependencies\n",
       "No Dependency    73\n",
       "T1                3\n",
       "T15               3\n",
       "T3                1\n",
       "T6                1\n",
       "T34               1\n",
       "T8                1\n",
       "T42               1\n",
       "T29               1\n",
       "T39               1\n",
       "T35               1\n",
       "T41               1\n",
       "T13               1\n",
       "T28               1\n",
       "T57               1\n",
       "T5                1\n",
       "T31               1\n",
       "T17               1\n",
       "T11               1\n",
       "T52               1\n",
       "T21               1\n",
       "T60               1\n",
       "T95               1\n",
       "T48               1\n",
       "Name: count, dtype: int64"
      ]
     },
     "execution_count": 4,
     "metadata": {},
     "output_type": "execute_result"
    }
   ],
   "source": [
    "df['Dependencies'].value_counts()"
   ]
  },
  {
   "cell_type": "code",
   "execution_count": 10,
   "metadata": {},
   "outputs": [
    {
     "data": {
      "text/plain": [
       "<Axes: xlabel='Task ID', ylabel='Dependencies'>"
      ]
     },
     "execution_count": 10,
     "metadata": {},
     "output_type": "execute_result"
    },
    {
     "data": {
      "image/png": "[encoded data removed]",
      "text/plain": [
       "<Figure size 640x480 with 1 Axes>"
      ]
     },
     "metadata": {},
     "output_type": "display_data"
    }
   ],
   "source": [
    "sns.scatterplot(df,x=df['Task ID'],y=df['Dependencies'],hue=df['Assigned To'])"
   ]
  },
  {
   "cell_type": "code",
   "execution_count": 11,
   "metadata": {},
   "outputs": [
    {
     "data": {
      "text/plain": [
       "array(['No Dependency', 'T1', 'T3', 'T15', 'T6', 'T34', 'T8', 'T42',\n",
       "       'T29', 'T39', 'T35', 'T41', 'T13', 'T28', 'T57', 'T5', 'T31',\n",
       "       'T17', 'T11', 'T52', 'T21', 'T60', 'T95', 'T48'], dtype=object)"
      ]
     },
     "execution_count": 11,
     "metadata": {},
     "output_type": "execute_result"
    }
   ],
   "source": [
    "df['Dependencies'].unique()"
   ]
  },
  {
   "cell_type": "code",
   "execution_count": null,
   "metadata": {},
   "outputs": [],
   "source": []
  }
 ],
 "metadata": {
  "kernelspec": {
   "display_name": "Python 3",
   "language": "python",
   "name": "python3"
  },
  "language_info": {
   "codemirror_mode": {
    "name": "ipython",
    "version": 3
   },
   "file_extension": ".py",
   "mimetype": "text/x-python",
   "name": "python",
   "nbconvert_exporter": "python",
   "pygments_lexer": "ipython3",
   "version": "3.13.2"
  }
 },
 "nbformat": 4,
 "nbformat_minor": 2
}
